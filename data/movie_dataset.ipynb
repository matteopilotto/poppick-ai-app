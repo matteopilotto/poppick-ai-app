{
 "cells": [
  {
   "cell_type": "markdown",
   "metadata": {},
   "source": [
    "### Setup"
   ]
  },
  {
   "cell_type": "code",
   "execution_count": null,
   "metadata": {},
   "outputs": [],
   "source": [
    "import os\n",
    "import requests\n",
    "from datetime import date\n",
    "import json\n",
    "import pandas as pd\n",
    "from supabase import create_client\n",
    "from dotenv import load_dotenv\n",
    "from openai import OpenAI\n",
    "\n",
    "load_dotenv()\n",
    "\n",
    "str(date.today())\n",
    "\n",
    "tmdb_api_key = os.getenv('TMDB_API_KEY')\n",
    "supabase_client = create_client(os.getenv(\"SUPABASE_PROJECT_URL\"), os.getenv(\"SUPABASE_API_KEY\"))\n",
    "openai_client = OpenAI(api_key=os.getenv(\"OPENAI_API_KEY\"))"
   ]
  },
  {
   "cell_type": "markdown",
   "metadata": {},
   "source": [
    "### Get movie data"
   ]
  },
  {
   "cell_type": "code",
   "execution_count": null,
   "metadata": {},
   "outputs": [],
   "source": [
    "url = \"https://api.themoviedb.org/3/discover/movie\"\n",
    "\n",
    "params = {\n",
    "    \"language\": \"en-US\",\n",
    "    \"sort_by\": \"release_date.asc\",\n",
    "    \"include_adult\": \"false\",\n",
    "    \"include_video\": \"false\",\n",
    "    \"primary_release_date.gte\": \"2023-01-01\",\n",
    "    \"primary_release_date.lte\": str(date.today()),\n",
    "    \"page\": 1,\n",
    "    \"vote_count.gte\": 100,\n",
    "}\n",
    "\n",
    "headers = {\n",
    "    \"Authorization\": f\"Bearer {tmdb_api_key}\",\n",
    "    \"accept\": \"application/json\",\n",
    "}\n",
    "\n",
    "response = requests.get(url, params=params, headers=headers)\n",
    "\n",
    "response_json = response.json()\n",
    "results = response_json[\"results\"]\n",
    "total_pages = response_json[\"total_pages\"]\n",
    "\n",
    "print(f\"[INFO] Number of Pages found: {total_pages}\")\n",
    "print(f\"[INFO] Page Number #1 | Response Status Code{response.status_code}\")\n",
    "\n",
    "for page_num in range(2, total_pages+1):\n",
    "    params[\"page\"] = page_num\n",
    "    response = requests.get(url, params=params, headers=headers)\n",
    "    print(f\"[INFO] Page Number #{page_num} | Response Status Code: {response.status_code}\")\n",
    "    response_json = response.json()\n",
    "\n",
    "    results.extend(response_json[\"results\"])"
   ]
  },
  {
   "cell_type": "code",
   "execution_count": null,
   "metadata": {},
   "outputs": [],
   "source": [
    "len(results)"
   ]
  },
  {
   "cell_type": "code",
   "execution_count": null,
   "metadata": {},
   "outputs": [],
   "source": [
    "# save data to JSON\n",
    "json_path = \"./movies.json\"\n",
    "\n",
    "with open(json_path, \"w\") as file:\n",
    "    json.dump(results, file, indent=4)"
   ]
  },
  {
   "cell_type": "code",
   "execution_count": null,
   "metadata": {},
   "outputs": [],
   "source": [
    "# load data from JSON\n",
    "json_path = \"./movies.json\"\n",
    "with open (json_path, \"r\") as file:\n",
    "    data = json.load(file)\n",
    "\n",
    "len(data)"
   ]
  },
  {
   "cell_type": "code",
   "execution_count": null,
   "metadata": {},
   "outputs": [],
   "source": [
    "data[0]"
   ]
  },
  {
   "cell_type": "markdown",
   "metadata": {},
   "source": [
    "### Pre-process movie data"
   ]
  },
  {
   "cell_type": "code",
   "execution_count": null,
   "metadata": {},
   "outputs": [],
   "source": [
    "# get genre data\n",
    "url = \"https://api.themoviedb.org/3/genre/movie/list?language=en\"\n",
    "\n",
    "headers = {\n",
    "    \"Authorization\": f\"Bearer {tmdb_api_key}\",\n",
    "    \"accept\": \"application/json\",\n",
    "}\n",
    "\n",
    "response = requests.get(url, headers=headers)\n",
    "genre_list = response.json()[\"genres\"]\n",
    "genre_list[:5]"
   ]
  },
  {
   "cell_type": "code",
   "execution_count": null,
   "metadata": {},
   "outputs": [],
   "source": [
    "id2genre = {pair[\"id\"]: pair[\"name\"] for pair in genre_list}\n",
    "id2genre"
   ]
  },
  {
   "cell_type": "code",
   "execution_count": null,
   "metadata": {},
   "outputs": [],
   "source": [
    "# add genra data to movie data\n",
    "\n",
    "data_to_insert = [\n",
    "    {\n",
    "        \"id\": item[\"id\"],\n",
    "        \"title\": item[\"title\"],\n",
    "        \"release_date\": item[\"release_date\"],\n",
    "        \"genres\": [id2genre[id] for id in item[\"genre_ids\"]],\n",
    "        \"description\": item[\"overview\"],\n",
    "        \"poster\": \"https://image.tmdb.org/t/p/original/\" + item[\"poster_path\"],\n",
    "        \"rating\": item[\"vote_average\"],\n",
    "    } for item in data\n",
    "]"
   ]
  },
  {
   "cell_type": "code",
   "execution_count": null,
   "metadata": {},
   "outputs": [],
   "source": [
    "data_to_insert[0]"
   ]
  },
  {
   "cell_type": "code",
   "execution_count": null,
   "metadata": {},
   "outputs": [],
   "source": [
    "# concat data into string and add it to the movie data\n",
    "\n",
    "movie_template = \"\"\"\n",
    "Title: {title}\n",
    "Release Date: {year}\n",
    "Genres: {genres}\n",
    "Description: {description}\n",
    "Rating: {rating}\n",
    "\"\"\".strip()\n",
    "\n",
    "for item in data_to_insert:\n",
    "    item[\"context\"] = movie_template.format(\n",
    "        title=item[\"title\"],\n",
    "        year=item[\"release_date\"],\n",
    "        genres=\", \".join(item[\"genres\"]),\n",
    "        description=item[\"description\"],\n",
    "        rating=item[\"rating\"],\n",
    "    )"
   ]
  },
  {
   "cell_type": "code",
   "execution_count": null,
   "metadata": {},
   "outputs": [],
   "source": [
    "print(data_to_insert[0][\"context\"])"
   ]
  },
  {
   "cell_type": "code",
   "execution_count": null,
   "metadata": {},
   "outputs": [],
   "source": [
    "df = pd.DataFrame.from_dict(data_to_insert)"
   ]
  },
  {
   "cell_type": "code",
   "execution_count": null,
   "metadata": {},
   "outputs": [],
   "source": [
    "df.head()"
   ]
  },
  {
   "cell_type": "code",
   "execution_count": null,
   "metadata": {},
   "outputs": [],
   "source": [
    "# save data to JSON\n",
    "json_path = \"./movies_clean.json\"\n",
    "\n",
    "with open(json_path, \"w\") as file:\n",
    "    json.dump(data_to_insert, file, indent=4)"
   ]
  },
  {
   "cell_type": "markdown",
   "metadata": {},
   "source": [
    "### Compute embeddings"
   ]
  },
  {
   "cell_type": "code",
   "execution_count": null,
   "metadata": {},
   "outputs": [],
   "source": [
    "# compute embeddings\n",
    "\n",
    "def get_embedding(text, model=\"text-embedding-3-small\"):\n",
    "    # text = text.replace(\"\\n\", \" \")\n",
    "    return openai_client.embeddings.create(input=[text], model=model).data[0].embedding\n",
    "\n",
    "df[\"embedding\"] = df[\"context\"].apply(lambda x: get_embedding(x, model=\"text-embedding-3-small\"))"
   ]
  },
  {
   "cell_type": "code",
   "execution_count": null,
   "metadata": {},
   "outputs": [],
   "source": [
    "df.rename(columns={\"id\": \"tmdb_id\"}, inplace=True)\n",
    "data_to_insert2 = df.to_dict(orient=\"records\")\n",
    "data_to_insert2"
   ]
  },
  {
   "cell_type": "code",
   "execution_count": null,
   "metadata": {},
   "outputs": [],
   "source": [
    "# save data to JSON\n",
    "json_path = \"./movies_clean_emb.json\"\n",
    "\n",
    "with open(json_path, \"w\") as file:\n",
    "    json.dump(data_to_insert2, file, indent=4)"
   ]
  },
  {
   "cell_type": "code",
   "execution_count": null,
   "metadata": {},
   "outputs": [],
   "source": [
    "len(data_to_insert2[0][\"embedding\"])"
   ]
  },
  {
   "cell_type": "code",
   "execution_count": null,
   "metadata": {},
   "outputs": [],
   "source": [
    "data_to_insert2[0].keys()"
   ]
  },
  {
   "cell_type": "markdown",
   "metadata": {},
   "source": [
    "### Upload processed data to Supabase"
   ]
  },
  {
   "cell_type": "code",
   "execution_count": null,
   "metadata": {},
   "outputs": [],
   "source": [
    "# load data from JSON\n",
    "json_path = \"./movies_clean_emb.json\"\n",
    "\n",
    "with open (json_path, \"r\") as file:\n",
    "    data = json.load(file)\n",
    "\n",
    "len(data)\n",
    "\n",
    "data"
   ]
  },
  {
   "cell_type": "code",
   "execution_count": null,
   "metadata": {},
   "outputs": [],
   "source": [
    "# update movie data to supabase in chunks\n",
    "\n",
    "chunk_size = 100\n",
    "item_count = len(data_to_insert2)\n",
    "\n",
    "for i in range(0, item_count, chunk_size):\n",
    "    print(f\"[INFO] Insering items {(i, min(i+chunk_size, item_count))}...\")\n",
    "    supabase_client.table(\"movies_tmdb\").insert(data[i:min(i+chunk_size, item_count)]).execute()\n",
    "\n",
    "print(f\"[INFO] SUCCESS\")"
   ]
  }
 ],
 "metadata": {
  "kernelspec": {
   "display_name": "ml",
   "language": "python",
   "name": "python3"
  },
  "language_info": {
   "codemirror_mode": {
    "name": "ipython",
    "version": 3
   },
   "file_extension": ".py",
   "mimetype": "text/x-python",
   "name": "python",
   "nbconvert_exporter": "python",
   "pygments_lexer": "ipython3",
   "version": "3.1.undefined"
  }
 },
 "nbformat": 4,
 "nbformat_minor": 2
}
